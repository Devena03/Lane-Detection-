{
 "cells": [
  {
   "cell_type": "code",
   "execution_count": 1,
   "id": "1ac9b13d-056f-4529-8e63-8c5aab9da50e",
   "metadata": {},
   "outputs": [
    {
     "name": "stdout",
     "output_type": "stream",
     "text": [
      "Lane detection results saved to D:\\Desktop\\4th year\\Final Year\\TUSimple\\test_set\\lane_detection_results.json\n"
     ]
    }
   ],
   "source": [
    "import cv2\n",
    "import os\n",
    "import json\n",
    "import numpy as np\n",
    "\n",
    "# h_samples (y-coordinates where lanes are sampled)\n",
    "H_SAMPLES = [160, 170, 180, 190, 200, 210, 220, 230, 240, 250, 260, 270, 280, 290, 300, 310, 320, 330, 340, 350, 360, \n",
    "             370, 380, 390, 400, 410, 420, 430, 440, 450, 460, 470, 480, 490, 500, 510, 520, 530, 540, 550, 560, 570, \n",
    "             580, 590, 600, 610, 620, 630, 640, 650, 660, 670, 680, 690, 700, 710]\n",
    "\n",
    "# Function to detect lanes and map to x-coordinates at specified y-coordinates\n",
    "def detect_lanes(image_path):\n",
    "    \"\"\"\n",
    "    Placeholder function: Replace with your lane detection logic.\n",
    "    \"\"\"\n",
    "    # Simulated lane data for demonstration purposes\n",
    "    lanes = [\n",
    "        [x if (x > 0 and x < 1280) else -2 for x in range(200, 700, 10)],  # Example lane 1\n",
    "        [x if (x > 0 and x < 1280) else -2 for x in range(800, 1300, 10)],  # Example lane 2\n",
    "    ]\n",
    "    \n",
    "    # Ensure each lane has the same length as h_samples, using -2 for missing values\n",
    "    formatted_lanes = [[-2] * len(H_SAMPLES) for _ in range(len(lanes))]\n",
    "    \n",
    "    # Map x-coordinates to y-coordinates (h_samples)\n",
    "    for i, lane in enumerate(lanes):\n",
    "        for j, y in enumerate(H_SAMPLES):\n",
    "            if j < len(lane):\n",
    "                formatted_lanes[i][j] = lane[j]\n",
    "            else:\n",
    "                formatted_lanes[i][j] = -2  # Default for missing values\n",
    "    \n",
    "    return formatted_lanes\n",
    "\n",
    "# Path to folders\n",
    "folders = [\n",
    "    r\"D:\\Desktop\\4th year\\Final Year\\TUSimple\\test_set\\clips\\0530\"\n",
    "]\n",
    "\n",
    "# Initialize the results list\n",
    "results = []\n",
    "\n",
    "# Process each folder\n",
    "for folder in folders:\n",
    "    for subdir, _, files in os.walk(folder):\n",
    "        for file in files:\n",
    "            if file.lower().endswith(('png', 'jpg', 'jpeg')):\n",
    "                file_path = os.path.join(subdir, file)\n",
    "                relative_path = os.path.relpath(file_path, r\"D:\\Desktop\\4th year\\Final Year\\TUSimple\\test_set\")\n",
    "\n",
    "                # Detect lanes\n",
    "                lanes = detect_lanes(file_path)\n",
    "                \n",
    "                # Prepare JSON entry\n",
    "                result = {\n",
    "                    \"lanes\": lanes,\n",
    "                    \"h_samples\": H_SAMPLES,\n",
    "                    \"raw_file\": relative_path.replace(\"\\\\\", \"/\")\n",
    "                }\n",
    "                \n",
    "                results.append(result)\n",
    "\n",
    "# Save results to a JSON file\n",
    "output_path = r\"D:\\Desktop\\4th year\\Final Year\\TUSimple\\test_set\\lane_detection_results.json\"\n",
    "with open(output_path, 'w') as json_file:\n",
    "    json.dump(results, json_file, indent=4)\n",
    "print(f\"Lane detection results saved to {output_path}\")\n"
   ]
  },
  {
   "cell_type": "code",
   "execution_count": 5,
   "id": "b06b2185-43b9-4f47-8904-955aaa78a37c",
   "metadata": {},
   "outputs": [
    {
     "name": "stdout",
     "output_type": "stream",
     "text": [
      "Compressed lane detection results saved with one object per line to D:\\Desktop\\4th year\\Final Year\\TUSimple\\test_set\\lane_detection_results.json\n"
     ]
    }
   ],
   "source": [
    "# Save results to a JSON file (one object per line)\n",
    "output_path = r\"D:\\Desktop\\4th year\\Final Year\\TUSimple\\test_set\\lane_detection_results.json\"\n",
    "with open(output_path, 'w') as json_file:\n",
    "    for obj in results:\n",
    "        json_file.write(json.dumps(obj, separators=(',', ':')) + '\\n')\n",
    "print(f\"Compressed lane detection results saved with one object per line to {output_path}\")\n"
   ]
  },
  {
   "cell_type": "code",
   "execution_count": null,
   "id": "a153d33d-c285-45bb-8a6a-f9f26ab8e3d8",
   "metadata": {},
   "outputs": [],
   "source": []
  }
 ],
 "metadata": {
  "kernelspec": {
   "display_name": "Python 3 (ipykernel)",
   "language": "python",
   "name": "python3"
  },
  "language_info": {
   "codemirror_mode": {
    "name": "ipython",
    "version": 3
   },
   "file_extension": ".py",
   "mimetype": "text/x-python",
   "name": "python",
   "nbconvert_exporter": "python",
   "pygments_lexer": "ipython3",
   "version": "3.12.4"
  }
 },
 "nbformat": 4,
 "nbformat_minor": 5
}
